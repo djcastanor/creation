{
 "cells": [
  {
   "cell_type": "code",
   "execution_count": 1,
   "metadata": {},
   "outputs": [],
   "source": [
    "from sklearn.linear_model import LinearRegression"
   ]
  },
  {
   "cell_type": "code",
   "execution_count": 2,
   "metadata": {},
   "outputs": [],
   "source": [
    "import numpy as np\n",
    "import matplotlib.pyplot as plt\n",
    "%matplotlib inline"
   ]
  },
  {
   "cell_type": "code",
   "execution_count": 8,
   "metadata": {},
   "outputs": [],
   "source": [
    "x=np.array([[0,0],[1,1],[2,2]])"
   ]
  },
  {
   "cell_type": "code",
   "execution_count": 9,
   "metadata": {},
   "outputs": [],
   "source": [
    "y=np.array([1,2,3])"
   ]
  },
  {
   "cell_type": "code",
   "execution_count": 21,
   "metadata": {},
   "outputs": [
    {
     "data": {
      "text/plain": [
       "[<matplotlib.lines.Line2D at 0x1a20f5cc50>,\n",
       " <matplotlib.lines.Line2D at 0x1a20f5cda0>]"
      ]
     },
     "execution_count": 21,
     "metadata": {},
     "output_type": "execute_result"
    },
    {
     "data": {
      "image/png": "[encoded data removed]",
      "text/plain": [
       "<Figure size 432x288 with 1 Axes>"
      ]
     },
     "metadata": {
      "needs_background": "light"
     },
     "output_type": "display_data"
    }
   ],
   "source": [
    "plt.plot(x,y)"
   ]
  },
  {
   "cell_type": "code",
   "execution_count": 6,
   "metadata": {},
   "outputs": [],
   "source": [
    "model = LinearRegression()"
   ]
  },
  {
   "cell_type": "code",
   "execution_count": 7,
   "metadata": {},
   "outputs": [
    {
     "data": {
      "text/plain": [
       "LinearRegression(copy_X=True, fit_intercept=True, n_jobs=1, normalize=False)"
      ]
     },
     "execution_count": 7,
     "metadata": {},
     "output_type": "execute_result"
    }
   ],
   "source": [
    "model.fit(x,y)"
   ]
  },
  {
   "cell_type": "code",
   "execution_count": 10,
   "metadata": {},
   "outputs": [
    {
     "data": {
      "text/plain": [
       "array([0.5, 0.5])"
      ]
     },
     "execution_count": 10,
     "metadata": {},
     "output_type": "execute_result"
    }
   ],
   "source": [
    "model.coef_"
   ]
  },
  {
   "cell_type": "code",
   "execution_count": 11,
   "metadata": {},
   "outputs": [
    {
     "data": {
      "text/plain": [
       "(3, 2)"
      ]
     },
     "execution_count": 11,
     "metadata": {},
     "output_type": "execute_result"
    }
   ],
   "source": [
    "np.shape(x)"
   ]
  },
  {
   "cell_type": "code",
   "execution_count": 19,
   "metadata": {},
   "outputs": [
    {
     "data": {
      "text/plain": [
       "[<matplotlib.lines.Line2D at 0x1a20be17f0>]"
      ]
     },
     "execution_count": 19,
     "metadata": {},
     "output_type": "execute_result"
    },
    {
     "data": {
      "image/png": "[encoded data removed]",
      "text/plain": [
       "<Figure size 432x288 with 1 Axes>"
      ]
     },
     "metadata": {
      "needs_background": "light"
     },
     "output_type": "display_data"
    }
   ],
   "source": [
    "plt.plot(x[:,0],y,'*k')\n"
   ]
  },
  {
   "cell_type": "code",
   "execution_count": 22,
   "metadata": {},
   "outputs": [
    {
     "data": {
      "text/plain": [
       "array([1., 2., 3.])"
      ]
     },
     "execution_count": 22,
     "metadata": {},
     "output_type": "execute_result"
    }
   ],
   "source": [
    "model.predict(x)"
   ]
  },
  {
   "cell_type": "code",
   "execution_count": 23,
   "metadata": {},
   "outputs": [],
   "source": [
    "from sklearn import datasets"
   ]
  },
  {
   "cell_type": "code",
   "execution_count": 25,
   "metadata": {},
   "outputs": [],
   "source": [
    "data=datasets.load_diabetes()"
   ]
  },
  {
   "cell_type": "code",
   "execution_count": 32,
   "metadata": {},
   "outputs": [],
   "source": [
    "x=data.data"
   ]
  },
  {
   "cell_type": "code",
   "execution_count": 33,
   "metadata": {},
   "outputs": [],
   "source": [
    "y=data.target"
   ]
  },
  {
   "cell_type": "code",
   "execution_count": 34,
   "metadata": {},
   "outputs": [
    {
     "data": {
      "text/plain": [
       "(442, 10)"
      ]
     },
     "execution_count": 34,
     "metadata": {},
     "output_type": "execute_result"
    }
   ],
   "source": [
    "x.shape"
   ]
  },
  {
   "cell_type": "code",
   "execution_count": 35,
   "metadata": {},
   "outputs": [
    {
     "data": {
      "text/plain": [
       "array([ 0.03807591, -0.00188202,  0.08529891, -0.08906294,  0.00538306,\n",
       "       -0.09269548, -0.04547248,  0.06350368,  0.04170844, -0.07090025,\n",
       "       -0.09632802,  0.02717829,  0.01628068,  0.00538306,  0.04534098,\n",
       "       -0.05273755, -0.00551455,  0.07076875, -0.0382074 , -0.02730979,\n",
       "       -0.04910502, -0.0854304 , -0.0854304 ,  0.04534098, -0.06363517,\n",
       "       -0.06726771, -0.10722563, -0.02367725,  0.05260606,  0.06713621,\n",
       "       -0.06000263, -0.02367725,  0.03444337,  0.03081083,  0.01628068,\n",
       "        0.04897352,  0.01264814, -0.00914709, -0.00188202, -0.00188202,\n",
       "        0.00538306, -0.09996055, -0.06000263,  0.01991321,  0.04534098,\n",
       "        0.02717829, -0.05637009, -0.07816532,  0.06713621, -0.04183994,\n",
       "        0.03444337,  0.05987114, -0.05273755, -0.00914709, -0.04910502,\n",
       "       -0.04183994, -0.04183994, -0.02730979,  0.04170844,  0.06350368,\n",
       "       -0.07090025, -0.04183994, -0.02730979, -0.03457486,  0.06713621,\n",
       "       -0.04547248, -0.00914709,  0.04170844,  0.03807591,  0.01628068,\n",
       "       -0.00188202, -0.00188202,  0.06350368,  0.01264814,  0.01264814,\n",
       "       -0.00914709, -0.03094232, -0.09632802,  0.00538306, -0.10359309,\n",
       "        0.07076875,  0.01264814, -0.01641217, -0.0382074 ,  0.00175052,\n",
       "        0.04534098, -0.07090025,  0.04534098, -0.05273755, -0.04547248,\n",
       "        0.01264814,  0.04534098, -0.02004471, -0.04910502, -0.07816532,\n",
       "       -0.07090025,  0.0562386 , -0.02730979,  0.00175052, -0.00188202,\n",
       "        0.01628068,  0.01628068, -0.09269548,  0.05987114, -0.02730979,\n",
       "        0.02354575, -0.09632802,  0.02717829,  0.01991321,  0.03807591,\n",
       "        0.04170844,  0.01991321, -0.0854304 ,  0.01991321,  0.02354575,\n",
       "       -0.03094232,  0.04897352,  0.05987114, -0.05637009,  0.01628068,\n",
       "       -0.04910502,  0.06350368,  0.04897352,  0.00538306, -0.00551455,\n",
       "       -0.00551455, -0.08906294,  0.03444337, -0.05273755,  0.0090156 ,\n",
       "       -0.06363517, -0.09632802,  0.01628068, -0.04183994, -0.07453279,\n",
       "       -0.00551455, -0.09269548,  0.00538306,  0.03444337,  0.02354575,\n",
       "        0.04170844, -0.02730979,  0.04170844, -0.03094232,  0.03081083,\n",
       "       -0.04183994, -0.03094232, -0.05637009, -0.06000263, -0.04910502,\n",
       "        0.02354575,  0.00175052, -0.03457486,  0.04170844,  0.06713621,\n",
       "       -0.02730979, -0.01641217, -0.00188202, -0.01277963, -0.00551455,\n",
       "       -0.00914709, -0.04547248, -0.05273755,  0.01628068,  0.04534098,\n",
       "       -0.04183994, -0.05637009,  0.07076875,  0.00175052, -0.00188202,\n",
       "        0.02354575, -0.02004471,  0.04170844, -0.06363517,  0.01628068,\n",
       "        0.06713621,  0.04534098,  0.04897352,  0.04170844, -0.02367725,\n",
       "       -0.0382074 ,  0.04897352,  0.04534098,  0.04534098,  0.01628068,\n",
       "       -0.07453279, -0.08179786, -0.06726771,  0.00538306, -0.00188202,\n",
       "        0.0090156 , -0.00551455,  0.0562386 ,  0.0090156 , -0.06726771,\n",
       "        0.02717829, -0.02367725,  0.04897352, -0.05273755,  0.04170844,\n",
       "        0.0562386 , -0.03457486,  0.08166637, -0.00188202,  0.11072668,\n",
       "       -0.03094232,  0.00175052,  0.0090156 ,  0.03081083,  0.03807591,\n",
       "        0.0090156 ,  0.09256398,  0.06713621,  0.00175052,  0.03081083,\n",
       "        0.02717829,  0.01264814,  0.07440129, -0.04183994, -0.08906294,\n",
       "        0.02354575, -0.04547248, -0.02367725, -0.09996055, -0.02730979,\n",
       "        0.03081083, -0.10359309,  0.06713621, -0.05273755, -0.02730979,\n",
       "       -0.0382074 ,  0.0090156 ,  0.01264814,  0.06713621,  0.04534098,\n",
       "        0.06713621,  0.02717829,  0.0562386 ,  0.03444337,  0.02354575,\n",
       "        0.04897352,  0.03081083, -0.10359309,  0.01628068, -0.06000263,\n",
       "       -0.02730979,  0.04170844, -0.08179786, -0.04183994, -0.01277963,\n",
       "        0.06713621, -0.05273755,  0.00538306,  0.08166637,  0.03081083,\n",
       "        0.00175052, -0.04910502, -0.02730979,  0.07803383,  0.01264814,\n",
       "        0.04170844,  0.04897352, -0.01641217, -0.07453279,  0.03444337,\n",
       "       -0.03457486, -0.05273755,  0.05987114,  0.06350368,  0.0090156 ,\n",
       "        0.00538306,  0.03807591,  0.01264814,  0.07440129,  0.01628068,\n",
       "       -0.00551455,  0.01264814, -0.03457486,  0.06713621,  0.03807591,\n",
       "        0.0090156 , -0.09269548,  0.07076875, -0.01641217,  0.04170844,\n",
       "        0.01264814, -0.0382074 ,  0.04534098,  0.07076875, -0.07453279,\n",
       "        0.05987114,  0.07440129,  0.0090156 , -0.07090025,  0.02354575,\n",
       "       -0.05273755,  0.06713621,  0.00175052,  0.02354575,  0.03807591,\n",
       "        0.01628068, -0.00188202,  0.01264814,  0.07440129,  0.04170844,\n",
       "       -0.00914709,  0.0090156 ,  0.06713621,  0.00175052, -0.00914709,\n",
       "       -0.00551455,  0.09619652, -0.07453279,  0.05987114, -0.02367725,\n",
       "        0.0090156 ,  0.01628068,  0.01991321,  0.08893144,  0.01991321,\n",
       "       -0.02367725,  0.09619652,  0.02354575,  0.07076875,  0.03081083,\n",
       "       -0.00188202,  0.04534098,  0.07440129, -0.0382074 , -0.01277963,\n",
       "        0.0090156 ,  0.08166637,  0.03081083,  0.02717829, -0.06000263,\n",
       "        0.00538306, -0.02004471,  0.01991321, -0.06363517,  0.02717829,\n",
       "       -0.01641217,  0.03081083,  0.0562386 , -0.02004471, -0.10722563,\n",
       "        0.08166637,  0.00538306,  0.03807591,  0.03081083,  0.00175052,\n",
       "       -0.02730979, -0.0854304 ,  0.01264814, -0.05273755, -0.02367725,\n",
       "       -0.07453279, -0.00551455, -0.06000263, -0.02004471,  0.03807591,\n",
       "        0.01628068,  0.04170844,  0.01991321, -0.04910502,  0.00175052,\n",
       "        0.03444337, -0.04547248, -0.00914709, -0.01641217, -0.00914709,\n",
       "        0.01991321,  0.05260606, -0.02730979, -0.07453279, -0.10722563,\n",
       "        0.04534098, -0.00188202,  0.01991321,  0.01628068, -0.00188202,\n",
       "        0.01628068, -0.07090025,  0.04897352,  0.00538306,  0.03444337,\n",
       "        0.02354575,  0.01991321, -0.04547248,  0.05260606, -0.00551455,\n",
       "        0.0090156 , -0.02367725, -0.04183994, -0.07453279,  0.03444337,\n",
       "       -0.06000263, -0.0854304 ,  0.05260606,  0.01264814,  0.05987114,\n",
       "       -0.02367725,  0.01628068,  0.11072668, -0.02004471, -0.01641217,\n",
       "        0.04897352, -0.05637009,  0.02717829,  0.06350368, -0.05273755,\n",
       "       -0.00914709,  0.00538306,  0.07440129, -0.05273755,  0.08166637,\n",
       "       -0.00551455, -0.02730979, -0.05273755,  0.0090156 , -0.02004471,\n",
       "        0.02354575,  0.03807591, -0.07816532,  0.0090156 ,  0.00175052,\n",
       "       -0.07816532,  0.03081083, -0.03457486,  0.04897352, -0.04183994,\n",
       "       -0.00914709,  0.07076875,  0.0090156 , -0.02730979,  0.01628068,\n",
       "       -0.01277963, -0.05637009,  0.04170844, -0.00551455,  0.04170844,\n",
       "       -0.04547248, -0.04547248])"
      ]
     },
     "execution_count": 35,
     "metadata": {},
     "output_type": "execute_result"
    }
   ],
   "source": [
    "x[:,0]"
   ]
  },
  {
   "cell_type": "code",
   "execution_count": 38,
   "metadata": {},
   "outputs": [
    {
     "data": {
      "text/plain": [
       "[<matplotlib.lines.Line2D at 0x1a213ae518>]"
      ]
     },
     "execution_count": 38,
     "metadata": {},
     "output_type": "execute_result"
    },
    {
     "data": {
      "image/png": "[encoded data removed]",
      "text/plain": [
       "<Figure size 432x288 with 1 Axes>"
      ]
     },
     "metadata": {
      "needs_background": "light"
     },
     "output_type": "display_data"
    }
   ],
   "source": [
    "plt.plot(x[:,0],'*k')"
   ]
  },
  {
   "cell_type": "code",
   "execution_count": 39,
   "metadata": {},
   "outputs": [
    {
     "data": {
      "text/plain": [
       "array([151.,  75., 141., 206., 135.,  97., 138.,  63., 110., 310., 101.,\n",
       "        69., 179., 185., 118., 171., 166., 144.,  97., 168.,  68.,  49.,\n",
       "        68., 245., 184., 202., 137.,  85., 131., 283., 129.,  59., 341.,\n",
       "        87.,  65., 102., 265., 276., 252.,  90., 100.,  55.,  61.,  92.,\n",
       "       259.,  53., 190., 142.,  75., 142., 155., 225.,  59., 104., 182.,\n",
       "       128.,  52.,  37., 170., 170.,  61., 144.,  52., 128.,  71., 163.,\n",
       "       150.,  97., 160., 178.,  48., 270., 202., 111.,  85.,  42., 170.,\n",
       "       200., 252., 113., 143.,  51.,  52., 210.,  65., 141.,  55., 134.,\n",
       "        42., 111.,  98., 164.,  48.,  96.,  90., 162., 150., 279.,  92.,\n",
       "        83., 128., 102., 302., 198.,  95.,  53., 134., 144., 232.,  81.,\n",
       "       104.,  59., 246., 297., 258., 229., 275., 281., 179., 200., 200.,\n",
       "       173., 180.,  84., 121., 161.,  99., 109., 115., 268., 274., 158.,\n",
       "       107.,  83., 103., 272.,  85., 280., 336., 281., 118., 317., 235.,\n",
       "        60., 174., 259., 178., 128.,  96., 126., 288.,  88., 292.,  71.,\n",
       "       197., 186.,  25.,  84.,  96., 195.,  53., 217., 172., 131., 214.,\n",
       "        59.,  70., 220., 268., 152.,  47.,  74., 295., 101., 151., 127.,\n",
       "       237., 225.,  81., 151., 107.,  64., 138., 185., 265., 101., 137.,\n",
       "       143., 141.,  79., 292., 178.,  91., 116.,  86., 122.,  72., 129.,\n",
       "       142.,  90., 158.,  39., 196., 222., 277.,  99., 196., 202., 155.,\n",
       "        77., 191.,  70.,  73.,  49.,  65., 263., 248., 296., 214., 185.,\n",
       "        78.,  93., 252., 150.,  77., 208.,  77., 108., 160.,  53., 220.,\n",
       "       154., 259.,  90., 246., 124.,  67.,  72., 257., 262., 275., 177.,\n",
       "        71.,  47., 187., 125.,  78.,  51., 258., 215., 303., 243.,  91.,\n",
       "       150., 310., 153., 346.,  63.,  89.,  50.,  39., 103., 308., 116.,\n",
       "       145.,  74.,  45., 115., 264.,  87., 202., 127., 182., 241.,  66.,\n",
       "        94., 283.,  64., 102., 200., 265.,  94., 230., 181., 156., 233.,\n",
       "        60., 219.,  80.,  68., 332., 248.,  84., 200.,  55.,  85.,  89.,\n",
       "        31., 129.,  83., 275.,  65., 198., 236., 253., 124.,  44., 172.,\n",
       "       114., 142., 109., 180., 144., 163., 147.,  97., 220., 190., 109.,\n",
       "       191., 122., 230., 242., 248., 249., 192., 131., 237.,  78., 135.,\n",
       "       244., 199., 270., 164.,  72.,  96., 306.,  91., 214.,  95., 216.,\n",
       "       263., 178., 113., 200., 139., 139.,  88., 148.,  88., 243.,  71.,\n",
       "        77., 109., 272.,  60.,  54., 221.,  90., 311., 281., 182., 321.,\n",
       "        58., 262., 206., 233., 242., 123., 167.,  63., 197.,  71., 168.,\n",
       "       140., 217., 121., 235., 245.,  40.,  52., 104., 132.,  88.,  69.,\n",
       "       219.,  72., 201., 110.,  51., 277.,  63., 118.,  69., 273., 258.,\n",
       "        43., 198., 242., 232., 175.,  93., 168., 275., 293., 281.,  72.,\n",
       "       140., 189., 181., 209., 136., 261., 113., 131., 174., 257.,  55.,\n",
       "        84.,  42., 146., 212., 233.,  91., 111., 152., 120.,  67., 310.,\n",
       "        94., 183.,  66., 173.,  72.,  49.,  64.,  48., 178., 104., 132.,\n",
       "       220.,  57.])"
      ]
     },
     "execution_count": 39,
     "metadata": {},
     "output_type": "execute_result"
    }
   ],
   "source": [
    "y"
   ]
  },
  {
   "cell_type": "code",
   "execution_count": 40,
   "metadata": {},
   "outputs": [
    {
     "data": {
      "text/plain": [
       "LinearRegression(copy_X=True, fit_intercept=True, n_jobs=1, normalize=False)"
      ]
     },
     "execution_count": 40,
     "metadata": {},
     "output_type": "execute_result"
    }
   ],
   "source": [
    "model.fit(x,y)"
   ]
  },
  {
   "cell_type": "code",
   "execution_count": 41,
   "metadata": {},
   "outputs": [
    {
     "data": {
      "text/plain": [
       "0.5177494254132934"
      ]
     },
     "execution_count": 41,
     "metadata": {},
     "output_type": "execute_result"
    }
   ],
   "source": [
    "model.score(x,y)"
   ]
  },
  {
   "cell_type": "code",
   "execution_count": 42,
   "metadata": {},
   "outputs": [
    {
     "data": {
      "text/plain": [
       "array([206.11706979,  68.07234761, 176.88406035, 166.91796559,\n",
       "       128.45984241, 106.34908972,  73.89417947, 118.85378669,\n",
       "       158.81033076, 213.58408893,  97.07853583,  95.1016223 ,\n",
       "       115.06673301, 164.67605023, 103.07517946, 177.17236996,\n",
       "       211.75953205, 182.84424343, 147.99987605, 124.01702527,\n",
       "       120.33094632,  85.80377894, 113.11286302, 252.44934852,\n",
       "       165.48821056, 147.72187623,  97.12824075, 179.09342974,\n",
       "       129.05497324, 184.78138552, 158.71515746,  69.47588393,\n",
       "       261.50255826, 112.81897436,  78.37194762,  87.66624129,\n",
       "       207.92460213, 157.87686037, 240.84370686, 136.93372685,\n",
       "       153.48187659,  74.15703284, 145.63105805,  77.8280105 ,\n",
       "       221.0786645 , 125.22224022, 142.60147066, 109.4926324 ,\n",
       "        73.14037106, 189.87368742, 157.93636782, 169.55816531,\n",
       "       134.18186217, 157.72356219, 139.1077439 ,  72.73252701,\n",
       "       207.8289973 ,  80.10834588, 104.08562488, 134.57807971,\n",
       "       114.23779529, 180.67760064,  61.12644508,  98.7215441 ,\n",
       "       113.79626149, 189.96141244, 148.98263155, 124.33457266,\n",
       "       114.83969622, 122.00224605,  73.91315064, 236.70948329,\n",
       "       142.31366526, 124.51427625, 150.84273716, 127.75408702,\n",
       "       191.16674356,  77.05921006, 166.82129568,  91.00741773,\n",
       "       174.75026808, 122.83488194,  63.27214662, 151.99895968,\n",
       "        53.73407848, 166.00134469,  42.65030679, 153.04135861,\n",
       "        80.54493791, 106.9048058 ,  79.94239571, 187.1634566 ,\n",
       "       192.60115666,  61.07125918, 107.40466928, 125.04038427,\n",
       "       207.72180472, 214.21749964, 123.47505642, 139.16396617,\n",
       "       168.21035724, 106.9267784 , 150.64502809, 157.92231541,\n",
       "       152.75856279, 116.22255529,  73.03090141, 155.66898717,\n",
       "       230.14278537, 143.50191007,  38.0947967 , 121.860737  ,\n",
       "       152.79569851, 207.99651918, 291.23082717, 189.17431487,\n",
       "       214.02871163, 235.18090808, 165.3872774 , 151.25000032,\n",
       "       156.57626783, 200.44154589, 219.35211772, 174.79049427,\n",
       "       169.23161767, 187.8719893 ,  57.49473392, 108.55110499,\n",
       "        92.68518048, 210.87365701, 245.47433558,  69.84529943,\n",
       "       113.0351432 ,  68.42945176, 141.69628649, 239.46177949,\n",
       "        58.3802079 , 235.47268158, 254.91986281, 253.31042713,\n",
       "       155.50813249, 230.55904185, 170.44063216, 117.99200943,\n",
       "       178.55548636, 240.07155813, 190.3398776 , 228.66100769,\n",
       "       114.24162642, 178.36570405, 209.09273631, 144.85567253,\n",
       "       200.65791056, 121.34184881, 150.50918174, 199.02165018,\n",
       "       146.2806806 , 124.02443772,  85.26036769, 235.16536625,\n",
       "        82.17255475, 231.29266191, 144.36634395, 197.04778326,\n",
       "       146.99720377,  77.18477545,  59.3728572 , 262.67891084,\n",
       "       225.12578458, 220.20506312,  46.59691745,  88.1040833 ,\n",
       "       221.77623752,  97.24900614, 164.48869956, 119.90114263,\n",
       "       157.79986195, 223.08505437,  99.5885471 , 165.84341641,\n",
       "       179.47571002,  89.83382843, 171.82492808, 158.36337775,\n",
       "       201.47857482, 186.39202728, 197.47094269,  66.57241937,\n",
       "       154.59826802, 116.18638034, 195.92074021, 128.04740268,\n",
       "        91.20285628, 140.56975398, 155.23013996, 169.70207476,\n",
       "        98.75498537, 190.1453107 , 142.5193942 , 177.26966106,\n",
       "        95.31403505,  69.0645889 , 164.16669511, 198.06460718,\n",
       "       178.26228169, 228.58801706, 160.67275473, 212.28682319,\n",
       "       222.48172067, 172.85184399, 125.27697688, 174.7240982 ,\n",
       "       152.38282657,  98.58485669,  99.73695497, 262.29658755,\n",
       "       223.73784832, 221.3425256 , 133.61497308, 145.42593933,\n",
       "        53.04259372, 141.81807792, 153.68369915, 125.21948824,\n",
       "        77.25091512, 230.26311068,  78.90849563, 105.20931175,\n",
       "       117.99633487,  99.06361032, 166.55382825, 159.34391027,\n",
       "       158.27612808, 143.05658763, 231.55938678, 176.64144413,\n",
       "       187.23572317,  65.38504165, 190.66078824, 179.74973878,\n",
       "       234.91022512, 119.15540438,  85.63464409, 100.85860205,\n",
       "       140.4174259 , 101.83836332, 120.66138775,  83.06599161,\n",
       "       234.58754656, 245.16192142, 263.26766492, 274.87431887,\n",
       "       180.67699732, 203.05474761, 254.21769367, 118.44122343,\n",
       "       268.44988948, 104.83643442, 115.87172349, 140.45788952,\n",
       "        58.46850453, 129.83264097, 263.78452618,  45.01240356,\n",
       "       123.28697604, 131.08314499,  34.89018315, 138.35659686,\n",
       "       244.30370588,  89.95612306, 192.07094588, 164.32674962,\n",
       "       147.74783541, 191.89381753, 176.44296313, 158.34707354,\n",
       "       189.19183226, 116.58275843, 111.44622859, 117.45262547,\n",
       "       165.79457547,  97.80241129, 139.54389024,  84.17453643,\n",
       "       159.9389204 , 202.4011919 ,  80.48200416, 146.64621068,\n",
       "        79.05274311, 191.33759392, 220.67545196, 203.75145711,\n",
       "        92.87093594, 179.15570241,  81.80126162, 152.82706623,\n",
       "        76.79700486,  97.79712384, 106.83424483, 123.83477117,\n",
       "       218.13375502, 126.02077447, 206.76300555, 230.57976636,\n",
       "       122.0628518 , 135.67694517, 126.36969016, 148.49621551,\n",
       "        88.07082258, 138.95595037, 203.86570118, 172.55362727,\n",
       "       122.95773416, 213.92445645, 174.88857841, 110.07169487,\n",
       "       198.36767241, 173.24601643, 162.64946177, 193.31777358,\n",
       "       191.53802295, 284.13478714, 279.30688474, 216.0070265 ,\n",
       "       210.08517801, 216.22213925, 157.01489819, 224.06561179,\n",
       "       189.05840605, 103.56829281, 178.70442926, 111.81492124,\n",
       "       290.99913121, 182.64959461,  79.33602602,  86.33287509,\n",
       "       249.15238929, 174.51439576, 122.10645431, 146.27099383,\n",
       "       170.6555544 , 183.50018707, 163.36970989, 157.03563376,\n",
       "       144.42617093, 125.30179325, 177.50072942, 104.57821235,\n",
       "       132.1746674 ,  95.06145678, 249.9007786 ,  86.24033937,\n",
       "        62.00077469, 156.81087903, 192.3231713 , 133.85292727,\n",
       "        93.67456315, 202.49458467,  52.53953733, 174.82926235,\n",
       "       196.9141296 , 118.06646574, 235.3011088 , 165.09286707,\n",
       "       160.41863314, 162.37831419, 254.05718804, 257.23616403,\n",
       "       197.50578991, 184.06609359,  58.62043851, 194.3950396 ,\n",
       "       110.77475548, 142.20916765, 128.82725506, 180.12844365,\n",
       "       211.26415225, 169.59711427, 164.34167693, 136.2363478 ,\n",
       "       174.50905908,  74.67649224, 246.29542114, 114.14131338,\n",
       "       111.54358708, 140.02313284, 109.99647408,  91.37269237,\n",
       "       163.01389345,  75.16389857, 254.05755095,  53.47055785,\n",
       "        98.48060512, 100.66268306, 258.58885744, 170.67482041,\n",
       "        61.91866052, 182.3042492 , 171.26913027, 189.19307553,\n",
       "       187.18384852,  87.12032949, 148.37816611, 251.35898288,\n",
       "       199.69712357, 283.63722409,  50.85577124, 172.14848891,\n",
       "       204.06179478, 174.16816194, 157.93027543, 150.50201654,\n",
       "       232.9761832 , 121.5808709 , 164.54891787, 172.67742636,\n",
       "       226.78005938, 149.46967223,  99.14026374,  80.43680779,\n",
       "       140.15557121, 191.90593837, 199.27952034, 153.63210613,\n",
       "       171.80130949, 112.11314588, 162.60650576, 129.8448476 ,\n",
       "       258.02898298, 100.70869427, 115.87611124, 122.53790409,\n",
       "       218.17749233,  60.94590955, 131.09513588, 119.48417359,\n",
       "        52.60848094, 193.01802803, 101.05169913, 121.22505534,\n",
       "       211.8588945 ,  53.44819015])"
      ]
     },
     "execution_count": 42,
     "metadata": {},
     "output_type": "execute_result"
    }
   ],
   "source": [
    "model.predict(x)"
   ]
  },
  {
   "cell_type": "code",
   "execution_count": 43,
   "metadata": {},
   "outputs": [
    {
     "data": {
      "text/plain": [
       "[<matplotlib.lines.Line2D at 0x1a20eb39b0>]"
      ]
     },
     "execution_count": 43,
     "metadata": {},
     "output_type": "execute_result"
    },
    {
     "data": {
      "image/png": "[encoded data removed]",
      "text/plain": [
       "<Figure size 432x288 with 1 Axes>"
      ]
     },
     "metadata": {
      "needs_background": "light"
     },
     "output_type": "display_data"
    }
   ],
   "source": [
    "plt.plot(model.predict(x), 'ob')\n",
    "plt.plot(y,'or')"
   ]
  },
  {
   "cell_type": "code",
   "execution_count": 44,
   "metadata": {},
   "outputs": [],
   "source": [
    "from sklearn.neural_network import MLPRegressor"
   ]
  },
  {
   "cell_type": "code",
   "execution_count": 55,
   "metadata": {},
   "outputs": [],
   "source": [
    "model=MLPRegressor(hidden_layer_sizes=(100,100,20),max_iter=6000000)"
   ]
  },
  {
   "cell_type": "code",
   "execution_count": 56,
   "metadata": {},
   "outputs": [
    {
     "data": {
      "text/plain": [
       "MLPRegressor(activation='relu', alpha=0.0001, batch_size='auto', beta_1=0.9,\n",
       "       beta_2=0.999, early_stopping=False, epsilon=1e-08,\n",
       "       hidden_layer_sizes=(100, 100, 20), learning_rate='constant',\n",
       "       learning_rate_init=0.001, max_iter=6000000, momentum=0.9,\n",
       "       nesterovs_momentum=True, power_t=0.5, random_state=None,\n",
       "       shuffle=True, solver='adam', tol=0.0001, validation_fraction=0.1,\n",
       "       verbose=False, warm_start=False)"
      ]
     },
     "execution_count": 56,
     "metadata": {},
     "output_type": "execute_result"
    }
   ],
   "source": [
    "model.fit(x,y)"
   ]
  },
  {
   "cell_type": "code",
   "execution_count": 57,
   "metadata": {},
   "outputs": [
    {
     "data": {
      "text/plain": [
       "0.5116039121156097"
      ]
     },
     "execution_count": 57,
     "metadata": {},
     "output_type": "execute_result"
    }
   ],
   "source": [
    "model.score(x,y)"
   ]
  },
  {
   "cell_type": "code",
   "execution_count": null,
   "metadata": {},
   "outputs": [],
   "source": []
  }
 ],
 "metadata": {
  "kernelspec": {
   "display_name": "Python 3",
   "language": "python",
   "name": "python3"
  },
  "language_info": {
   "codemirror_mode": {
    "name": "ipython",
    "version": 3
   },
   "file_extension": ".py",
   "mimetype": "text/x-python",
   "name": "python",
   "nbconvert_exporter": "python",
   "pygments_lexer": "ipython3",
   "version": "3.7.0"
  }
 },
 "nbformat": 4,
 "nbformat_minor": 2
}
